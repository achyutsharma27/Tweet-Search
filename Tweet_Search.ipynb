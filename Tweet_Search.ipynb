{
  "nbformat": 4,
  "nbformat_minor": 0,
  "metadata": {
    "colab": {
      "provenance": [],
      "include_colab_link": true
    },
    "kernelspec": {
      "name": "python3",
      "display_name": "Python 3"
    },
    "language_info": {
      "name": "python"
    }
  },
  "cells": [
    {
      "cell_type": "markdown",
      "metadata": {
        "id": "view-in-github",
        "colab_type": "text"
      },
      "source": [
        "<a href=\"https://colab.research.google.com/github/achyutsharma27/Tweet-Search/blob/main/Tweet_Search.ipynb\" target=\"_parent\"><img src=\"https://colab.research.google.com/assets/colab-badge.svg\" alt=\"Open In Colab\"/></a>"
      ]
    },
    {
      "cell_type": "markdown",
      "source": [
        "---\n",
        "## **Mini Project : Tweets Search**\n",
        "---"
      ],
      "metadata": {
        "id": "TGM9L5dN6grb"
      }
    },
    {
      "cell_type": "markdown",
      "source": [
        "---\n",
        "### 1. Installing Library\n",
        "---"
      ],
      "metadata": {
        "id": "3_LTcoMG6ppS"
      }
    },
    {
      "cell_type": "code",
      "execution_count": 1,
      "metadata": {
        "colab": {
          "base_uri": "https://localhost:8080/"
        },
        "id": "j4Lx1ABm6NNN",
        "outputId": "76c20cca-ebbe-46d3-a50a-3825350e1f44"
      },
      "outputs": [
        {
          "output_type": "stream",
          "name": "stdout",
          "text": [
            "Tweepy installed successfully...\n"
          ]
        }
      ],
      "source": [
        "!pip install tweepy &> /dev/null\n",
        "print(\"Tweepy installed successfully...\")"
      ]
    },
    {
      "cell_type": "code",
      "source": [
        "access_token = \"501682241-ZG1DshytyxUIUY8FXPoH2AXaDG9d5DQlORemfAzU\"\n",
        "access_token_secret = \"mxwCYkDjgWG5qWy8ONtVs3j2lxiYSxyberVVa92jmd27z\"\n",
        "consumer_key = \"we0Drpnvc1FZNazKkiKoFWlGf\"\n",
        "consumer_secret = \"OXRvmJwM6ca9k90XMIMoktSCa5XvjNieqJivcfjbOAlmpO6RhH\""
      ],
      "metadata": {
        "id": "5VEudG3O7fa2"
      },
      "execution_count": 2,
      "outputs": []
    },
    {
      "cell_type": "markdown",
      "source": [
        "---\n",
        "### 2. Importing Libraries\n",
        "---"
      ],
      "metadata": {
        "id": "mDvssuW87Zq5"
      }
    },
    {
      "cell_type": "code",
      "source": [
        "import os\n",
        "import tweepy as tw\n",
        "import pandas as pd\n",
        "from datetime import datetime, timedelta\n"
      ],
      "metadata": {
        "id": "J0-qexu47oXP"
      },
      "execution_count": 3,
      "outputs": []
    },
    {
      "cell_type": "code",
      "source": [
        "auth = tw.OAuthHandler(consumer_key, consumer_secret)\n",
        "auth.set_access_token(access_token, access_token_secret)\n",
        "api = tw.API(auth, wait_on_rate_limit=True)"
      ],
      "metadata": {
        "id": "YKBvD42F70wl"
      },
      "execution_count": 4,
      "outputs": []
    },
    {
      "cell_type": "markdown",
      "source": [
        "---\n",
        "### 3. Define the search term and the date_since date as variables\n",
        "---"
      ],
      "metadata": {
        "id": "9IgYP1997wAB"
      }
    },
    {
      "cell_type": "code",
      "source": [
        "search_words = \"#yogiadityanath\"\n",
        "date_since = datetime.strptime(\"2022-06-05\", \"%Y-%m-%d\")\n"
      ],
      "metadata": {
        "id": "yRqlVO0Y8F1d"
      },
      "execution_count": 5,
      "outputs": []
    },
    {
      "cell_type": "markdown",
      "source": [
        "---\n",
        "### 4. Collect tweets\n",
        "---"
      ],
      "metadata": {
        "id": "aUzzGPSY8REW"
      }
    },
    {
      "cell_type": "code",
      "source": [
        "tweets = tw.Cursor(api.search_tweets, q=search_words, lang=\"en\").items(10)\n",
        "fp = open(\"result.txt\",'w');\n",
        "# Iterate and print tweets\n",
        "for tweet in tweets:\n",
        "    print(tweet.text)\n",
        "    fp.write(tweet.text+'\\n');\n",
        "fp.close();"
      ],
      "metadata": {
        "colab": {
          "base_uri": "https://localhost:8080/"
        },
        "id": "M8WcV4CQ8Zy8",
        "outputId": "e359a540-f5d7-4866-8e71-477ad65f2a2c"
      },
      "execution_count": 6,
      "outputs": [
        {
          "output_type": "stream",
          "name": "stdout",
          "text": [
            "RT @ani_digital: \"Descendants of accidental Hindu not able to digest honor given to Gita Press\": Uttar Pradesh CM\n",
            "\n",
            "Read @ANI Story | https:…\n",
            "Coming soon \n",
            "#bajrangdal #YogiAdityanath @myogioffice https://t.co/hUENDRNdqg\n",
            "RT @ani_digital: \"Descendants of accidental Hindu not able to digest honor given to Gita Press\": Uttar Pradesh CM\n",
            "\n",
            "Read @ANI Story | https:…\n",
            "Good News to all the kind souls, Livestock bill has been withdrawn.\n",
            "\n",
            "Thanks to each one of you for all the effort❤️… https://t.co/hhBhbUXds8\n",
            "RT @ani_digital: \"Descendants of accidental Hindu not able to digest honor given to Gita Press\": Uttar Pradesh CM\n",
            "\n",
            "Read @ANI Story | https:…\n",
            "RT @ani_digital: President Murmu is strong symbol of women empowerment, says UP CM Yogi\n",
            "\n",
            "Read @ANI story | https://t.co/Fw38d1oyTv\n",
            "#Preside…\n",
            "RT @ani_digital: President Murmu is strong symbol of women empowerment, says UP CM Yogi\n",
            "\n",
            "Read @ANI story | https://t.co/Fw38d1oyTv\n",
            "#Preside…\n",
            "RT @ani_digital: President Murmu is strong symbol of women empowerment, says UP CM Yogi\n",
            "\n",
            "Read @ANI story | https://t.co/Fw38d1oyTv\n",
            "#Preside…\n",
            "RT @ani_digital: \"Descendants of accidental Hindu not able to digest honor given to Gita Press\": Uttar Pradesh CM\n",
            "\n",
            "Read @ANI Story | https:…\n",
            "RT @ani_digital: \"Descendants of accidental Hindu not able to digest honor given to Gita Press\": Uttar Pradesh CM\n",
            "\n",
            "Read @ANI Story | https:…\n"
          ]
        }
      ]
    }
  ]
}